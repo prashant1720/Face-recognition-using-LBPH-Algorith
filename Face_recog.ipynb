{
 "cells": [
  {
   "cell_type": "code",
   "execution_count": 1,
   "metadata": {},
   "outputs": [],
   "source": [
    "import cv2\n",
    "#os module for reading training data directories and paths\n",
    "import os\n",
    "#numpy to convert python lists to numpy arrays as it is needed by OpenCV face␣ ,→recognizers\n",
    "import numpy as np"
   ]
  },
  {
   "cell_type": "code",
   "execution_count": 15,
   "metadata": {},
   "outputs": [],
   "source": [
    "subjects = [\"\",\"PRASHANT\",\"REZINA\",\"ABHISHEK\",\"SHUBHAM\"]"
   ]
  },
  {
   "cell_type": "code",
   "execution_count": 3,
   "metadata": {},
   "outputs": [],
   "source": [
    "def detect_face(img):\n",
    "    gray = cv2.cvtColor(img, cv2.COLOR_BGR2GRAY)\n",
    "    face_cascade = cv2.CascadeClassifier(r'C:\\Users\\Prashant\\Desktop\\Detect\\opencv-master\\data\\haarcascades\\haarcascade_frontalface_alt.xml')\n",
    "    faces = face_cascade.detectMultiScale(gray, scaleFactor=1.2,minNeighbors=5);\n",
    "    if (len(faces) == 0):\n",
    "        return None, None\n",
    "    (x, y, w, h) = faces[0]\n",
    "    return gray[y:y+w, x:x+h], faces[0]\n",
    "\n",
    "    "
   ]
  },
  {
   "cell_type": "code",
   "execution_count": null,
   "metadata": {},
   "outputs": [],
   "source": []
  },
  {
   "cell_type": "code",
   "execution_count": 20,
   "metadata": {},
   "outputs": [],
   "source": [
    "def prepare_training_data(data_folder_path):\n",
    "    dirs = os.listdir(data_folder_path)\n",
    "\n",
    "    faces = []\n",
    "    #list to hold labels for all subjects\n",
    "    labels = []\n",
    "    #let's go through each directory and read images within it\n",
    "    for dir_name in dirs:     \n",
    "        #our subject directories start with letter 's' so\n",
    "        #ignore any non-relevant directories if any\n",
    "        if not dir_name.startswith(\"s\"):\n",
    "             continue;\n",
    "#------STEP-2--------\n",
    "#extract label number of subject from dir_name\n",
    "#format of dir name = slabel\n",
    "#, so removing letter 's' from dir_name will give us label\n",
    "        label = int(dir_name.replace(\"s\", \"\"))\n",
    "        subject_dir_path = data_folder_path + \"/\" + dir_name\n",
    "        subject_images_names = os.listdir(subject_dir_path)\n",
    "        for image_name in subject_images_names:    \n",
    "            #ignore system files like .DS_Store\n",
    "            if image_name.startswith(\".\"):\n",
    "                continue;\n",
    "            #build image path\n",
    "            #sample image path = training-data/s1/1.pgm\n",
    "            image_path = subject_dir_path + \"/\" + image_name\n",
    "            #read image\n",
    "            image = cv2.imread(image_path)\n",
    "            #display an image window to show the image\n",
    "            cv2.imshow(\"Training on image...\", image)\n",
    "            cv2.waitKey(100)\n",
    "            #detect face\n",
    "            face, rect = detect_face(image)\n",
    "\n",
    "            if face is not None:\n",
    "                faces.append(face)\n",
    "                labels.append(label)\n",
    "            cv2.destroyAllWindows()\n",
    "            cv2.waitKey(1)\n",
    "        \n",
    "    cv2.destroyAllWindows()\n",
    "    return faces, labels"
   ]
  },
  {
   "cell_type": "code",
   "execution_count": 5,
   "metadata": {},
   "outputs": [
    {
     "name": "stdout",
     "output_type": "stream",
     "text": [
      "Preparing data...\n",
      "Data prepared\n"
     ]
    }
   ],
   "source": [
    "print(\"Preparing data...\")\n",
    "faces, labels = prepare_training_data(r\"C:\\Users\\Prashant\\Desktop\\train\")\n",
    "print(\"Data prepared\")"
   ]
  },
  {
   "cell_type": "code",
   "execution_count": 6,
   "metadata": {},
   "outputs": [
    {
     "name": "stdout",
     "output_type": "stream",
     "text": [
      "Total faces:  26\n",
      "Total labels:  26\n"
     ]
    }
   ],
   "source": [
    "print(\"Total faces: \", len(faces))\n",
    "print(\"Total labels: \", len(labels))"
   ]
  },
  {
   "cell_type": "code",
   "execution_count": 7,
   "metadata": {},
   "outputs": [],
   "source": [
    "face_recognizer = cv2.face.LBPHFaceRecognizer_create()"
   ]
  },
  {
   "cell_type": "code",
   "execution_count": 8,
   "metadata": {},
   "outputs": [],
   "source": [
    "face_recognizer.train(faces, np.array(labels))"
   ]
  },
  {
   "cell_type": "code",
   "execution_count": 9,
   "metadata": {},
   "outputs": [],
   "source": [
    "def draw_rectangle(img, rect):\n",
    "    (x, y, w, h) = rect\n",
    "    cv2.rectangle(img, (x, y), (x+w, y+h), (0, 255, 0), 2)"
   ]
  },
  {
   "cell_type": "code",
   "execution_count": 10,
   "metadata": {},
   "outputs": [],
   "source": [
    "def draw_text(img, text, x, y):\n",
    "    cv2.putText(img, text, (x, y), cv2.FONT_HERSHEY_PLAIN, 1.5, (0, 255, 0), 2)"
   ]
  },
  {
   "cell_type": "code",
   "execution_count": 11,
   "metadata": {},
   "outputs": [],
   "source": [
    "def predict(test_img):\n",
    "    img = test_img.copy()\n",
    "    face, rect = detect_face(img)\n",
    "    label = face_recognizer.predict(face)\n",
    "    label_text = subjects[label[0]]\n",
    "    draw_rectangle(img, rect)\n",
    "    draw_text(img, label_text, rect[0], rect[1]-5)\n",
    "    return img"
   ]
  },
  {
   "cell_type": "code",
   "execution_count": 21,
   "metadata": {},
   "outputs": [
    {
     "name": "stdout",
     "output_type": "stream",
     "text": [
      "Predicting images...\n",
      "Prediction complete\n"
     ]
    }
   ],
   "source": [
    "print(\"Predicting images...\")\n",
    "# load test images\n",
    "test_img1 = cv2.imread(r\"C:\\Users\\Prashant\\Desktop\\test\\1.jpg\")\n",
    "test_img2 = cv2.imread(r\"C:\\Users\\Prashant\\Desktop\\test\\2.jpg\")\n",
    "test_img3 = cv2.imread(r\"c:\\users\\Prashant\\Desktop\\test\\3.jpg\")\n",
    "test_img4 = cv2.imread(r\"c:\\users\\Prashant\\Desktop\\test\\4.jpg\")\n",
    "# perform a prediction\n",
    "predicted_img1 = predict(test_img1)\n",
    "predicted_img2 = predict(test_img2)\n",
    "predicted_img3 = predict(test_img3)\n",
    "predicted_img4 = predict(test_img4)\n",
    "print(\"Prediction complete\")\n",
    "# display both images\n",
    "\n",
    "cv2.imshow(subjects[1], predicted_img1)\n",
    "cv2.imshow(subjects[2], predicted_img2)\n",
    "cv2.imshow(subjects[3],predicted_img3)\n",
    "cv2.imshow(subjects[4],predicted_img4)\n",
    "cv2.waitKey(0)\n",
    "cv2.destroyAllWindows()"
   ]
  },
  {
   "cell_type": "code",
   "execution_count": null,
   "metadata": {},
   "outputs": [],
   "source": []
  },
  {
   "cell_type": "code",
   "execution_count": null,
   "metadata": {},
   "outputs": [],
   "source": []
  }
 ],
 "metadata": {
  "kernelspec": {
   "display_name": "Python 3",
   "language": "python",
   "name": "python3"
  },
  "language_info": {
   "codemirror_mode": {
    "name": "ipython",
    "version": 3
   },
   "file_extension": ".py",
   "mimetype": "text/x-python",
   "name": "python",
   "nbconvert_exporter": "python",
   "pygments_lexer": "ipython3",
   "version": "3.7.3"
  }
 },
 "nbformat": 4,
 "nbformat_minor": 2
}
